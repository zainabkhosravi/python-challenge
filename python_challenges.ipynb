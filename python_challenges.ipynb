{
  "nbformat": 4,
  "nbformat_minor": 0,
  "metadata": {
    "colab": {
      "name": "python challenges.ipynb",
      "provenance": [],
      "collapsed_sections": []
    },
    "kernelspec": {
      "name": "python3",
      "display_name": "Python 3"
    },
    "language_info": {
      "name": "python"
    }
  },
  "cells": [
    {
      "cell_type": "markdown",
      "source": [
        "challenge 1 :\n",
        " Capital indexes"
      ],
      "metadata": {
        "id": "2-1G3g8j3JeE"
      }
    },
    {
      "cell_type": "code",
      "source": [
        "def capital_indexes(input_string):\n",
        "    capital_indexes_list=[]\n",
        "    for indexes,i in enumerate(input_string):\n",
        "        if i.isupper():\n",
        "           capital_indexes_list.append(indexes)\n",
        "    return capital_indexes_list"
      ],
      "metadata": {
        "id": "MN9AyKxL4j5C"
      },
      "execution_count": 11,
      "outputs": []
    },
    {
      "cell_type": "markdown",
      "source": [
        "Challenge 2 : Middle letter\n"
      ],
      "metadata": {
        "id": "DUyjtBPD4npj"
      }
    },
    {
      "cell_type": "code",
      "source": [
        "def mid(input_string):\n",
        "  input_string_len=len(input_string)\n",
        "  if(input_string_len%2)==0:\n",
        "    return(\"\")\n",
        "  else:\n",
        "    return input_string[int(((input_string_len+1)/2)-1)]"
      ],
      "metadata": {
        "id": "QehS8sFp4_2n"
      },
      "execution_count": 12,
      "outputs": []
    },
    {
      "cell_type": "markdown",
      "source": [
        "Challenge 3 : Online status"
      ],
      "metadata": {
        "id": "rW19CfS55Yej"
      }
    },
    {
      "cell_type": "code",
      "source": [
        " def online_count(input_dict):\n",
        "    online_count=0\n",
        "    for value in input_dict.values():\n",
        "        if value==\"online\":\n",
        "            online_count+=1\n",
        "    return online_count\n",
        " "
      ],
      "metadata": {
        "id": "h53yHIc73ooc"
      },
      "execution_count": 13,
      "outputs": []
    },
    {
      "cell_type": "markdown",
      "source": [
        "Challenge 4 : Randomness"
      ],
      "metadata": {
        "id": "_mN2CAiw5oX9"
      }
    },
    {
      "cell_type": "code",
      "source": [
        "import random\n",
        "def random_number():\n",
        "    return random.randrange(1,101)"
      ],
      "metadata": {
        "id": "gbdbVs-E5n-P"
      },
      "execution_count": 14,
      "outputs": []
    },
    {
      "cell_type": "markdown",
      "source": [
        "Challenge 5 : Type check"
      ],
      "metadata": {
        "id": "BybK7ks-51jT"
      }
    },
    {
      "cell_type": "code",
      "source": [
        " def only_ints(a,b):\n",
        "    return True if(type(a)==int and type(b)==int)else  False"
      ],
      "metadata": {
        "id": "2xHfiouJ5-dI"
      },
      "execution_count": 15,
      "outputs": []
    },
    {
      "cell_type": "markdown",
      "source": [
        "Challenge 6 : Double letters"
      ],
      "metadata": {
        "id": "VHGIeFrO6Eui"
      }
    },
    {
      "cell_type": "code",
      "source": [
        " def double_letters(name):\n",
        "    new_string = list(name)\n",
        "    sm = False\n",
        "    for i, x in enumerate(new_string):\n",
        "        if (i + 1 < len(new_string) and i - 1 >= -1):\n",
        "            prev_el = str(new_string[i-1])\n",
        "            curr_el = str(x)\n",
        "            next_el = str(new_string[i+1])\n",
        "            print(\"{} {}\".format(curr_el, next_el))\n",
        "            if curr_el == next_el:\n",
        "                sm = True\n",
        "                return sm\n",
        "print(double_letters('aa'))"
      ],
      "metadata": {
        "colab": {
          "base_uri": "https://localhost:8080/"
        },
        "id": "O7r4ia6u6PaK",
        "outputId": "777bdeb0-b413-4199-e07b-e7bfc5b7ca42"
      },
      "execution_count": 17,
      "outputs": [
        {
          "output_type": "stream",
          "name": "stdout",
          "text": [
            "a a\n",
            "True\n"
          ]
        }
      ]
    },
    {
      "cell_type": "markdown",
      "source": [
        "Challenge 7 : Adding and removing dots"
      ],
      "metadata": {
        "id": "NyQygURS6f79"
      }
    },
    {
      "cell_type": "code",
      "source": [
        "def add_dots(string):\n",
        "    \n",
        "    return \".\".join(string)\n",
        "    \n",
        "    \n",
        "def remove_dots(string):\n",
        "    return string.replace(\".\", \"\")"
      ],
      "metadata": {
        "id": "5E3pKZND6oP3"
      },
      "execution_count": 18,
      "outputs": []
    },
    {
      "cell_type": "markdown",
      "source": [
        "Challenge 8 : Counting syllables"
      ],
      "metadata": {
        "id": "S9_r-iLD6wIl"
      }
    },
    {
      "cell_type": "code",
      "source": [
        "def count(word):\n",
        "    new_word = word\n",
        "    count_syllables = new_word.split('-')\n",
        "    return len(count_syllables)\n",
        "print(count(\"ho-tel\"))"
      ],
      "metadata": {
        "colab": {
          "base_uri": "https://localhost:8080/"
        },
        "id": "VE6SqOP566dh",
        "outputId": "ee880aa9-51b5-4e16-acba-eb3fcba5ba4f"
      },
      "execution_count": 19,
      "outputs": [
        {
          "output_type": "stream",
          "name": "stdout",
          "text": [
            "2\n"
          ]
        }
      ]
    },
    {
      "cell_type": "markdown",
      "source": [
        "Challenge 9 : Anagrams"
      ],
      "metadata": {
        "id": "SDKXJQ3F7E7W"
      }
    },
    {
      "cell_type": "code",
      "source": [
        "def is_anagram(name1, name2):\n",
        "    name1 = name1.lower()\n",
        "    arr1 = list(name1)\n",
        "    arr1.sort()\n",
        "\n",
        "    name2 = name2.lower()\n",
        "    arr2 = list(name2)\n",
        "    arr2.sort()\n",
        "    \n",
        "    return arr2 == arr1"
      ],
      "metadata": {
        "id": "0QJ2pjpj7K5p"
      },
      "execution_count": 20,
      "outputs": []
    },
    {
      "cell_type": "markdown",
      "source": [
        "Challenge 10 : Flatten a list"
      ],
      "metadata": {
        "id": "HH6UFzsw7Sdt"
      }
    },
    {
      "cell_type": "code",
      "source": [
        "def flatten(list_of_lists):\n",
        "    if len(list_of_lists) == 0:\n",
        "        return list_of_lists\n",
        "    if isinstance(list_of_lists[0], list):\n",
        "        return flatten(list_of_lists[0]) + flatten(list_of_lists[1:])\n",
        "    return list_of_lists[:1] + flatten(list_of_lists[1:])\n",
        "\n",
        "print(flatten([[1, 2, 3, 4], [5, 6, 7], [8, 9], 10]))"
      ],
      "metadata": {
        "colab": {
          "base_uri": "https://localhost:8080/"
        },
        "id": "hOivwuZk7cQV",
        "outputId": "bb39758b-1435-4846-95dc-f52985ab77fb"
      },
      "execution_count": 21,
      "outputs": [
        {
          "output_type": "stream",
          "name": "stdout",
          "text": [
            "[1, 2, 3, 4, 5, 6, 7, 8, 9, 10]\n"
          ]
        }
      ]
    },
    {
      "cell_type": "markdown",
      "source": [
        "Challenge 11 : Min-maxing"
      ],
      "metadata": {
        "id": "mPj1zB-E7i0u"
      }
    },
    {
      "cell_type": "code",
      "source": [
        "def largest_difference(numbers):\n",
        " sm_number = numbers\n",
        " la_number = numbers\n",
        " smaller = min(sm_number)\n",
        " largest = max(la_number)\n",
        " return largest - smaller\n",
        "\n",
        " print(largest_difference([1, 2, 3, 5, 6]))"
      ],
      "metadata": {
        "id": "LSh4vfqJ7p-d"
      },
      "execution_count": 23,
      "outputs": []
    },
    {
      "cell_type": "markdown",
      "source": [
        "Challenge 12 : Divisible by 3"
      ],
      "metadata": {
        "id": "JDI5zRsE7w6c"
      }
    },
    {
      "cell_type": "code",
      "source": [
        "def div_3(x):\n",
        "    if x % 3 == 0:\n",
        "        return True\n",
        "    else:\n",
        "        return False\n",
        "\n",
        "\n",
        "print(div_3(6))"
      ],
      "metadata": {
        "colab": {
          "base_uri": "https://localhost:8080/"
        },
        "id": "-HfL-VWb8JSk",
        "outputId": "c243fd03-3de3-477f-8a71-9d018b554959"
      },
      "execution_count": 24,
      "outputs": [
        {
          "output_type": "stream",
          "name": "stdout",
          "text": [
            "True\n"
          ]
        }
      ]
    },
    {
      "cell_type": "markdown",
      "source": [
        "Challenge 13 : Tic tac toe input"
      ],
      "metadata": {
        "id": "PyRcRiIQ8RCo"
      }
    },
    {
      "cell_type": "code",
      "source": [
        "def get_row_col(s):\n",
        "    letters = {'A': 0, 'B': 1, 'C': 2}\n",
        "    return (int(s[1]) - 1, letters[s[0]])"
      ],
      "metadata": {
        "id": "sYHNybkJ8dkD"
      },
      "execution_count": 25,
      "outputs": []
    },
    {
      "cell_type": "markdown",
      "source": [
        "Challenge 14 : Palindrome"
      ],
      "metadata": {
        "id": "bDlXl1lg9V-T"
      }
    },
    {
      "cell_type": "code",
      "source": [
        "def palindrome(a):\n",
        "    return a == a[::-1]"
      ],
      "metadata": {
        "id": "0zWXmKpp9bzk"
      },
      "execution_count": 26,
      "outputs": []
    },
    {
      "cell_type": "markdown",
      "source": [
        "Challenge 15 : Up and down"
      ],
      "metadata": {
        "id": "NhhqIowH9g6S"
      }
    },
    {
      "cell_type": "code",
      "source": [
        "def up_down(n):\n",
        "    return (n-1, n+1)"
      ],
      "metadata": {
        "id": "tz5xfXeU9rPD"
      },
      "execution_count": 27,
      "outputs": []
    },
    {
      "cell_type": "markdown",
      "source": [
        "Challenge 16 : Consecutive zeros"
      ],
      "metadata": {
        "id": "d1_DOLcc9wS5"
      }
    },
    {
      "cell_type": "code",
      "source": [
        "def consecutive_zeros(s):\n",
        "    max_count = 0\n",
        "    count = 0\n",
        "    for char in s:\n",
        "        if char == '0':\n",
        "            count += 1\n",
        "            if count > max_count:\n",
        "                max_count = count\n",
        "        else:\n",
        "            count = 0\n",
        "    return max_count"
      ],
      "metadata": {
        "id": "Ol-67kne96Cr"
      },
      "execution_count": 28,
      "outputs": []
    },
    {
      "cell_type": "markdown",
      "source": [
        "Challenge 17 : All equal"
      ],
      "metadata": {
        "id": "2utA9oQ1-Buv"
      }
    },
    {
      "cell_type": "code",
      "source": [
        "def all_equal(l):\n",
        "    for char in l:\n",
        "        if l[0] != char:\n",
        "            return False\n",
        "    return True"
      ],
      "metadata": {
        "id": "4A9lG3sj-JTl"
      },
      "execution_count": 29,
      "outputs": []
    },
    {
      "cell_type": "markdown",
      "source": [
        "Challenge 18 : Boolean and"
      ],
      "metadata": {
        "id": "P7hCbMxL-Ru4"
      }
    },
    {
      "cell_type": "code",
      "source": [
        "def triple_and(a, b, c):\n",
        "    return a and b and c"
      ],
      "metadata": {
        "id": "dvGQDXbs-ZZc"
      },
      "execution_count": 30,
      "outputs": []
    },
    {
      "cell_type": "markdown",
      "source": [
        "Challenge 19 : Writing short code"
      ],
      "metadata": {
        "id": "aEjY_6ER-fIM"
      }
    },
    {
      "cell_type": "code",
      "source": [
        "def convert(l):\n",
        "    return [str(x) for x in l]"
      ],
      "metadata": {
        "id": "7HZd8feE-oyM"
      },
      "execution_count": 31,
      "outputs": []
    },
    {
      "cell_type": "markdown",
      "source": [
        "Challenge 20 : Custom zip"
      ],
      "metadata": {
        "id": "GP5R4JYT-t5s"
      }
    },
    {
      "cell_type": "code",
      "source": [
        "def zap(a, b):\n",
        "    return [(a[i], b[i]) for i in range(len(a))]"
      ],
      "metadata": {
        "id": "ACnrC0WO-0qB"
      },
      "execution_count": 32,
      "outputs": []
    },
    {
      "cell_type": "markdown",
      "source": [
        "Challenge 21 : Solution validation"
      ],
      "metadata": {
        "id": "RDhPdWgl-7DH"
      }
    },
    {
      "cell_type": "code",
      "source": [
        "def validate(code):\n",
        "    if 'def' not in code:\n",
        "        return \"missing def\"\n",
        "    if ':' not in code:\n",
        "        return \"missing :\"\n",
        "    if '('+')' in code:\n",
        "        return \"missing param\"\n",
        "    if '(' not in code or ')' not in code:\n",
        "        return \"missing paren\"\n",
        "    if '    ' not in code:\n",
        "        return \"missing indent\"\n",
        "    if 'validate' not in code:\n",
        "        return \"wrong name\"\n",
        "    if 'return' not in code:\n",
        "        return \"missing return\"\n",
        "    return True"
      ],
      "metadata": {
        "id": "Es179dP7_F7B"
      },
      "execution_count": 33,
      "outputs": []
    },
    {
      "cell_type": "markdown",
      "source": [
        "Challenge 22 : List xor"
      ],
      "metadata": {
        "id": "tghfw6pb_QY3"
      }
    },
    {
      "cell_type": "code",
      "source": [
        "def list_xor(n, list1, list2):\n",
        "    return (n in list1 or n in list2) and (n not in list1 or n not in list2)"
      ],
      "metadata": {
        "id": "UQ0AGjEH_ZvF"
      },
      "execution_count": 34,
      "outputs": []
    },
    {
      "cell_type": "markdown",
      "source": [
        "Challenge 23 : Counting parameters"
      ],
      "metadata": {
        "id": "4AxxnofJ_idX"
      }
    },
    {
      "cell_type": "code",
      "source": [
        "def param_count(*pargs):\n",
        "    return len(pargs)"
      ],
      "metadata": {
        "id": "PaJ4KON4_rDq"
      },
      "execution_count": 35,
      "outputs": []
    },
    {
      "cell_type": "markdown",
      "source": [
        "Challenge 24 : Thousands separator"
      ],
      "metadata": {
        "id": "S70G1mcf_wTX"
      }
    },
    {
      "cell_type": "code",
      "source": [
        "def format_number(n):\n",
        "    return '{:,}'.format(n)"
      ],
      "metadata": {
        "id": "6WekaS8Z_4dM"
      },
      "execution_count": 36,
      "outputs": []
    }
  ]
}